{
  "nbformat": 4,
  "nbformat_minor": 0,
  "metadata": {
    "colab": {
      "provenance": []
    },
    "kernelspec": {
      "name": "python3",
      "display_name": "Python 3"
    },
    "language_info": {
      "name": "python"
    }
  },
  "cells": [
    {
      "cell_type": "code",
      "execution_count": null,
      "metadata": {
        "id": "1k2Tp49M8F_m"
      },
      "outputs": [],
      "source": [
        "import os\n",
        "import numpy as np\n",
        "from PIL import Image\n",
        "import matplotlib.pyplot as plt\n",
        "\n",
        "data = []\n",
        "labels = []\n",
        "i = 0"
      ]
    },
    {
      "cell_type": "code",
      "source": [
        "for root, dirs, files in os.walk('/Users/akshatgupta/Desktop/IIITD/SEM_4/SML/Assignment1/trainingSet'):\n",
        "  for j in files:\n",
        "    if j.endswith('jpg'):\n",
        "      image = Image.open(os.path.join(root,j))\n",
        "      image = np.array(image)[:,:]\n",
        "      image = np.reshape(image, (image.shape[0] * image.shape[1]))\n",
        "      data.append(image)\n",
        "      labels.append(i)\n",
        "  i+=1"
      ],
      "metadata": {
        "id": "6h9QGFbZrRXr"
      },
      "execution_count": null,
      "outputs": []
    },
    {
      "cell_type": "code",
      "source": [
        "data = np.array(data)\n",
        "labels = np.array(labels)\n",
        "row = np.shape(data)[0]\n",
        "height = np.shape(labels)[0]\n",
        "\n",
        "training_data, testing_data = np.split(data, [int(row*4/5)])\n",
        "\n",
        "training_label, testing_label = np.split(labels, [int(4/5*height)])"
      ],
      "metadata": {
        "id": "2zTuFoKKA0zd"
      },
      "execution_count": null,
      "outputs": []
    },
    {
      "cell_type": "code",
      "source": [
        "def pca(data):\n",
        "  means = np.mean(data, axis=0)\n",
        "  \n",
        "  centered_data = data - means\n",
        "\n",
        "  cov_centered_data = np.cov(centered_data, rowvar=False)\n",
        "  \n",
        "  eigenvalues, eigenvectors = np.linalg.eig(cov_centered_data)\n",
        "\n",
        "  eigenvectors = eigenvectors[:,np.argsort(eigenvalues)[::-1]]\n",
        "  eigenvalues = np.sort(eigenvalues)[::-1]\n",
        "\n",
        "  components = np.dot(centered_data, eigenvectors)\n",
        "\n",
        "  return components"
      ],
      "metadata": {
        "id": "Fw2MDlUlOaot"
      },
      "execution_count": null,
      "outputs": []
    },
    {
      "cell_type": "code",
      "source": [
        "def kNN(training_data,k,testing_data):\n",
        "  kNN_testing_labels = np.zeros(len(testing_data))\n",
        "  \n",
        "  for i in range(len(testing_data)):\n",
        "    distances = []\n",
        "    for j in range(len(training_data)):\n",
        "      diff = np.abs((testing_data[i] - training_data[j])**2)\n",
        "      distance = np.sum(diff)\n",
        "      distances.append(distance)\n",
        "    \n",
        "  padosi = training_label[np.argsort(distances,axis=1)[:,:k]]\n",
        "\n",
        "  for i,p in enumerate(padosi):\n",
        "    kNN_testing_labels[i] = np.bincount(p).argmax()\n",
        "\n",
        "  return kNN_testing_labels"
      ],
      "metadata": {
        "id": "BU3Djo0iXwlv"
      },
      "execution_count": null,
      "outputs": []
    },
    {
      "cell_type": "code",
      "source": [
        "pca_1 = pca(training_data)\n",
        "pca_2 = pca(testing_data)\n",
        "\n",
        "pca_1_5 = pca_1[:,:5]\n",
        "pca_2_5 = pca_2[:,:5]\n",
        "\n",
        "pca_1_25 = pca_1[:,:25]\n",
        "pca_2_25 = pca_2[:,:25]\n",
        "\n",
        "pca_1_125 = pca_1[:,:125]\n",
        "pca_2_125 = pca_2[:,:125]"
      ],
      "metadata": {
        "id": "el7LtgcsBwkK"
      },
      "execution_count": null,
      "outputs": []
    },
    {
      "cell_type": "code",
      "source": [
        "kNN_1 = kNN(testing_data,5,training_data)\n",
        "kNN_1_5 = kNN(pca_1_5,5,pca_2_5)\n",
        "kNN_1_25 = kNN(pca_1_25,25,pca_2_25)\n",
        "kNN_1_125 = kNN(pca_1_125,125,pca_2_125)"
      ],
      "metadata": {
        "id": "FCWbIx61RFlt"
      },
      "execution_count": null,
      "outputs": []
    },
    {
      "cell_type": "code",
      "source": [
        "#Accuracies\n",
        "\n",
        "A_kNN_1 = sum([1 for x,y in zip(kNN_1,training_label) if x==y])\n",
        "print(\"Accuracy of kNN on training_data: \", 100*A_kNN_1/(len(kNN_1)))\n",
        "\n",
        "A_kNN_1_5 = sum([1 for x,y in zip(kNN_1,training_label) if x==y])\n",
        "print(\"Accuracy of kNN on pca components for k=5: \", 100*A_kNN_1_5/(len(kNN_1_5)))\n",
        "\n",
        "A_kNN_1_25 = sum([1 for x,y in zip(kNN_1,training_label) if x==y])\n",
        "print(\"Accuracy of kNN on pca components for k=25: \", 100*A_kNN_1_25/(len(kNN_1_25)))\n",
        "\n",
        "A_kNN_1_125 = sum([1 for x,y in zip(kNN_1,training_label) if x==y])\n",
        "print(\"Accuracy of kNN on pca components for k=125: \", 100*A_kNN_1_125/(len(kNN_1_125)))\n"
      ],
      "metadata": {
        "id": "JYkKHRorZwwG"
      },
      "execution_count": null,
      "outputs": []
    },
    {
      "cell_type": "code",
      "source": [
        "means = np.mean(training_data, axis=0)\n",
        "  \n",
        "centered_data = training_data - means\n",
        "cov_centered_data = np.cov(centered_data, rowvar=False)\n",
        "eigenvalues, eigenvectors = np.linalg.eig(cov_centered_data)\n",
        "eigenvalues = np.sort(eigenvalues)[::-1]\n",
        "\n",
        "esum = np.sum(eigenvalues)\n",
        "values1 = eigenvalues / esum\n",
        "values = np.cumsum(values1)\n",
        "\n",
        "plt.plot(range(1,len(values)+1),values)\n",
        "plt.xlabel(\"Principal Components\")\n",
        "plt.ylabel(\"Explained Variance Ratio\")\n",
        "plt.show()"
      ],
      "metadata": {
        "id": "_ajfcatbVcCQ"
      },
      "execution_count": null,
      "outputs": []
    },
    {
      "cell_type": "code",
      "source": [
        "print(\"Number of PCs required to cover 80% of variance: \",np.argmax(values >= 0.8) + 1)"
      ],
      "metadata": {
        "id": "FtBHjfszWWKt"
      },
      "execution_count": null,
      "outputs": []
    }
  ]
}